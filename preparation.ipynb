{
 "cells": [
  {
   "cell_type": "markdown",
   "id": "554bfcba",
   "metadata": {},
   "source": [
    "First, import the library required for this part."
   ]
  },
  {
   "cell_type": "code",
   "execution_count": 48,
   "id": "de0ff062",
   "metadata": {},
   "outputs": [],
   "source": [
    "import pandas as pd"
   ]
  },
  {
   "cell_type": "markdown",
   "id": "28f796ca",
   "metadata": {},
   "source": [
    "Import the main information for each title."
   ]
  },
  {
   "cell_type": "code",
   "execution_count": 49,
   "id": "967d5ebf",
   "metadata": {},
   "outputs": [],
   "source": [
    "info = pd.read_csv('raw_data/title_info_og.csv')"
   ]
  },
  {
   "cell_type": "code",
   "execution_count": 50,
   "id": "188f139a",
   "metadata": {},
   "outputs": [
    {
     "data": {
      "text/html": [
       "<div>\n",
       "<style scoped>\n",
       "    .dataframe tbody tr th:only-of-type {\n",
       "        vertical-align: middle;\n",
       "    }\n",
       "\n",
       "    .dataframe tbody tr th {\n",
       "        vertical-align: top;\n",
       "    }\n",
       "\n",
       "    .dataframe thead th {\n",
       "        text-align: right;\n",
       "    }\n",
       "</style>\n",
       "<table border=\"1\" class=\"dataframe\">\n",
       "  <thead>\n",
       "    <tr style=\"text-align: right;\">\n",
       "      <th></th>\n",
       "      <th>id</th>\n",
       "      <th>title</th>\n",
       "      <th>type</th>\n",
       "      <th>description</th>\n",
       "      <th>release_year</th>\n",
       "      <th>age_certification</th>\n",
       "      <th>runtime</th>\n",
       "      <th>genres</th>\n",
       "      <th>production_countries</th>\n",
       "      <th>seasons</th>\n",
       "      <th>imdb_id</th>\n",
       "      <th>imdb_score</th>\n",
       "      <th>imdb_votes</th>\n",
       "      <th>tmdb_popularity</th>\n",
       "      <th>tmdb_score</th>\n",
       "    </tr>\n",
       "  </thead>\n",
       "  <tbody>\n",
       "    <tr>\n",
       "      <th>0</th>\n",
       "      <td>ts300399</td>\n",
       "      <td>Five Came Back: The Reference Films</td>\n",
       "      <td>SHOW</td>\n",
       "      <td>This collection includes 12 World War II-era p...</td>\n",
       "      <td>1945</td>\n",
       "      <td>TV-MA</td>\n",
       "      <td>51</td>\n",
       "      <td>['documentation']</td>\n",
       "      <td>['US']</td>\n",
       "      <td>1.0</td>\n",
       "      <td>NaN</td>\n",
       "      <td>NaN</td>\n",
       "      <td>NaN</td>\n",
       "      <td>0.600</td>\n",
       "      <td>NaN</td>\n",
       "    </tr>\n",
       "    <tr>\n",
       "      <th>1</th>\n",
       "      <td>tm84618</td>\n",
       "      <td>Taxi Driver</td>\n",
       "      <td>MOVIE</td>\n",
       "      <td>A mentally unstable Vietnam War veteran works ...</td>\n",
       "      <td>1976</td>\n",
       "      <td>R</td>\n",
       "      <td>114</td>\n",
       "      <td>['drama', 'crime']</td>\n",
       "      <td>['US']</td>\n",
       "      <td>NaN</td>\n",
       "      <td>tt0075314</td>\n",
       "      <td>8.2</td>\n",
       "      <td>808582.0</td>\n",
       "      <td>40.965</td>\n",
       "      <td>8.179</td>\n",
       "    </tr>\n",
       "    <tr>\n",
       "      <th>2</th>\n",
       "      <td>tm154986</td>\n",
       "      <td>Deliverance</td>\n",
       "      <td>MOVIE</td>\n",
       "      <td>Intent on seeing the Cahulawassee River before...</td>\n",
       "      <td>1972</td>\n",
       "      <td>R</td>\n",
       "      <td>109</td>\n",
       "      <td>['drama', 'action', 'thriller', 'european']</td>\n",
       "      <td>['US']</td>\n",
       "      <td>NaN</td>\n",
       "      <td>tt0068473</td>\n",
       "      <td>7.7</td>\n",
       "      <td>107673.0</td>\n",
       "      <td>10.010</td>\n",
       "      <td>7.300</td>\n",
       "    </tr>\n",
       "    <tr>\n",
       "      <th>3</th>\n",
       "      <td>tm127384</td>\n",
       "      <td>Monty Python and the Holy Grail</td>\n",
       "      <td>MOVIE</td>\n",
       "      <td>King Arthur, accompanied by his squire, recrui...</td>\n",
       "      <td>1975</td>\n",
       "      <td>PG</td>\n",
       "      <td>91</td>\n",
       "      <td>['fantasy', 'action', 'comedy']</td>\n",
       "      <td>['GB']</td>\n",
       "      <td>NaN</td>\n",
       "      <td>tt0071853</td>\n",
       "      <td>8.2</td>\n",
       "      <td>534486.0</td>\n",
       "      <td>15.461</td>\n",
       "      <td>7.811</td>\n",
       "    </tr>\n",
       "    <tr>\n",
       "      <th>4</th>\n",
       "      <td>tm120801</td>\n",
       "      <td>The Dirty Dozen</td>\n",
       "      <td>MOVIE</td>\n",
       "      <td>12 American military prisoners in World War II...</td>\n",
       "      <td>1967</td>\n",
       "      <td>NaN</td>\n",
       "      <td>150</td>\n",
       "      <td>['war', 'action']</td>\n",
       "      <td>['GB', 'US']</td>\n",
       "      <td>NaN</td>\n",
       "      <td>tt0061578</td>\n",
       "      <td>7.7</td>\n",
       "      <td>72662.0</td>\n",
       "      <td>20.398</td>\n",
       "      <td>7.600</td>\n",
       "    </tr>\n",
       "  </tbody>\n",
       "</table>\n",
       "</div>"
      ],
      "text/plain": [
       "         id                                title   type  \\\n",
       "0  ts300399  Five Came Back: The Reference Films   SHOW   \n",
       "1   tm84618                          Taxi Driver  MOVIE   \n",
       "2  tm154986                          Deliverance  MOVIE   \n",
       "3  tm127384      Monty Python and the Holy Grail  MOVIE   \n",
       "4  tm120801                      The Dirty Dozen  MOVIE   \n",
       "\n",
       "                                         description  release_year  \\\n",
       "0  This collection includes 12 World War II-era p...          1945   \n",
       "1  A mentally unstable Vietnam War veteran works ...          1976   \n",
       "2  Intent on seeing the Cahulawassee River before...          1972   \n",
       "3  King Arthur, accompanied by his squire, recrui...          1975   \n",
       "4  12 American military prisoners in World War II...          1967   \n",
       "\n",
       "  age_certification  runtime                                       genres  \\\n",
       "0             TV-MA       51                            ['documentation']   \n",
       "1                 R      114                           ['drama', 'crime']   \n",
       "2                 R      109  ['drama', 'action', 'thriller', 'european']   \n",
       "3                PG       91              ['fantasy', 'action', 'comedy']   \n",
       "4               NaN      150                            ['war', 'action']   \n",
       "\n",
       "  production_countries  seasons    imdb_id  imdb_score  imdb_votes  \\\n",
       "0               ['US']      1.0        NaN         NaN         NaN   \n",
       "1               ['US']      NaN  tt0075314         8.2    808582.0   \n",
       "2               ['US']      NaN  tt0068473         7.7    107673.0   \n",
       "3               ['GB']      NaN  tt0071853         8.2    534486.0   \n",
       "4         ['GB', 'US']      NaN  tt0061578         7.7     72662.0   \n",
       "\n",
       "   tmdb_popularity  tmdb_score  \n",
       "0            0.600         NaN  \n",
       "1           40.965       8.179  \n",
       "2           10.010       7.300  \n",
       "3           15.461       7.811  \n",
       "4           20.398       7.600  "
      ]
     },
     "execution_count": 50,
     "metadata": {},
     "output_type": "execute_result"
    }
   ],
   "source": [
    "info.head()"
   ]
  },
  {
   "cell_type": "code",
   "execution_count": 51,
   "id": "32d3f177",
   "metadata": {},
   "outputs": [
    {
     "data": {
      "text/plain": [
       "(5850, 15)"
      ]
     },
     "execution_count": 51,
     "metadata": {},
     "output_type": "execute_result"
    }
   ],
   "source": [
    "info.shape"
   ]
  },
  {
   "cell_type": "markdown",
   "id": "dcb22491",
   "metadata": {},
   "source": [
    "Now, let's import the data for the credits."
   ]
  },
  {
   "cell_type": "code",
   "execution_count": 52,
   "id": "b21b2e74",
   "metadata": {},
   "outputs": [],
   "source": [
    "credits = pd.read_csv('raw_data/title_credits.csv')"
   ]
  },
  {
   "cell_type": "code",
   "execution_count": 53,
   "id": "309d0783",
   "metadata": {},
   "outputs": [
    {
     "data": {
      "text/html": [
       "<div>\n",
       "<style scoped>\n",
       "    .dataframe tbody tr th:only-of-type {\n",
       "        vertical-align: middle;\n",
       "    }\n",
       "\n",
       "    .dataframe tbody tr th {\n",
       "        vertical-align: top;\n",
       "    }\n",
       "\n",
       "    .dataframe thead th {\n",
       "        text-align: right;\n",
       "    }\n",
       "</style>\n",
       "<table border=\"1\" class=\"dataframe\">\n",
       "  <thead>\n",
       "    <tr style=\"text-align: right;\">\n",
       "      <th></th>\n",
       "      <th>person_id</th>\n",
       "      <th>id</th>\n",
       "      <th>name</th>\n",
       "      <th>character</th>\n",
       "      <th>role</th>\n",
       "    </tr>\n",
       "  </thead>\n",
       "  <tbody>\n",
       "    <tr>\n",
       "      <th>0</th>\n",
       "      <td>3748</td>\n",
       "      <td>tm84618</td>\n",
       "      <td>Robert De Niro</td>\n",
       "      <td>Travis Bickle</td>\n",
       "      <td>ACTOR</td>\n",
       "    </tr>\n",
       "    <tr>\n",
       "      <th>1</th>\n",
       "      <td>14658</td>\n",
       "      <td>tm84618</td>\n",
       "      <td>Jodie Foster</td>\n",
       "      <td>Iris Steensma</td>\n",
       "      <td>ACTOR</td>\n",
       "    </tr>\n",
       "    <tr>\n",
       "      <th>2</th>\n",
       "      <td>7064</td>\n",
       "      <td>tm84618</td>\n",
       "      <td>Albert Brooks</td>\n",
       "      <td>Tom</td>\n",
       "      <td>ACTOR</td>\n",
       "    </tr>\n",
       "    <tr>\n",
       "      <th>3</th>\n",
       "      <td>3739</td>\n",
       "      <td>tm84618</td>\n",
       "      <td>Harvey Keitel</td>\n",
       "      <td>Matthew 'Sport' Higgins</td>\n",
       "      <td>ACTOR</td>\n",
       "    </tr>\n",
       "    <tr>\n",
       "      <th>4</th>\n",
       "      <td>48933</td>\n",
       "      <td>tm84618</td>\n",
       "      <td>Cybill Shepherd</td>\n",
       "      <td>Betsy</td>\n",
       "      <td>ACTOR</td>\n",
       "    </tr>\n",
       "  </tbody>\n",
       "</table>\n",
       "</div>"
      ],
      "text/plain": [
       "   person_id       id             name                character   role\n",
       "0       3748  tm84618   Robert De Niro            Travis Bickle  ACTOR\n",
       "1      14658  tm84618     Jodie Foster            Iris Steensma  ACTOR\n",
       "2       7064  tm84618    Albert Brooks                      Tom  ACTOR\n",
       "3       3739  tm84618    Harvey Keitel  Matthew 'Sport' Higgins  ACTOR\n",
       "4      48933  tm84618  Cybill Shepherd                    Betsy  ACTOR"
      ]
     },
     "execution_count": 53,
     "metadata": {},
     "output_type": "execute_result"
    }
   ],
   "source": [
    "credits.head()"
   ]
  },
  {
   "cell_type": "code",
   "execution_count": 54,
   "id": "bfc8dfaa",
   "metadata": {},
   "outputs": [
    {
     "data": {
      "text/plain": [
       "ACTOR       73251\n",
       "DIRECTOR     4550\n",
       "Name: role, dtype: int64"
      ]
     },
     "execution_count": 54,
     "metadata": {},
     "output_type": "execute_result"
    }
   ],
   "source": [
    "credits['role'].value_counts()"
   ]
  },
  {
   "cell_type": "markdown",
   "id": "d86022ee",
   "metadata": {},
   "source": [
    "I need to create two fields in the final info dataframe: actors and director."
   ]
  },
  {
   "cell_type": "markdown",
   "id": "f7799117",
   "metadata": {},
   "source": [
    "For ease, let's split the credits on actors and directors."
   ]
  },
  {
   "cell_type": "code",
   "execution_count": 55,
   "id": "60e7e90c",
   "metadata": {},
   "outputs": [],
   "source": [
    "actors = credits[credits['role'] == 'ACTOR']"
   ]
  },
  {
   "cell_type": "code",
   "execution_count": 56,
   "id": "0c76c7f6",
   "metadata": {},
   "outputs": [
    {
     "data": {
      "text/plain": [
       "73251"
      ]
     },
     "execution_count": 56,
     "metadata": {},
     "output_type": "execute_result"
    }
   ],
   "source": [
    "actors.shape[0]"
   ]
  },
  {
   "cell_type": "code",
   "execution_count": 57,
   "id": "0f69ff8d",
   "metadata": {},
   "outputs": [],
   "source": [
    "directors = credits[credits['role'] == 'DIRECTOR']"
   ]
  },
  {
   "cell_type": "code",
   "execution_count": 58,
   "id": "ba2f1328",
   "metadata": {},
   "outputs": [
    {
     "data": {
      "text/plain": [
       "4550"
      ]
     },
     "execution_count": 58,
     "metadata": {},
     "output_type": "execute_result"
    }
   ],
   "source": [
    "directors.shape[0]"
   ]
  },
  {
   "cell_type": "markdown",
   "id": "40684dca",
   "metadata": {},
   "source": [
    "Now let's merge either with the initial info dataframe to create a final info dataframe."
   ]
  },
  {
   "cell_type": "code",
   "execution_count": 59,
   "id": "8c9ce075",
   "metadata": {},
   "outputs": [],
   "source": [
    "first_merge = pd.merge(info, actors.groupby('id')['name'].apply(list).reset_index(), on='id', how='left')"
   ]
  },
  {
   "cell_type": "code",
   "execution_count": 60,
   "id": "39593bfa",
   "metadata": {},
   "outputs": [],
   "source": [
    "first_merge.rename(columns={\"name\": \"actors\"}, inplace=True)"
   ]
  },
  {
   "cell_type": "code",
   "execution_count": 61,
   "id": "4d24071a",
   "metadata": {},
   "outputs": [
    {
     "data": {
      "text/html": [
       "<div>\n",
       "<style scoped>\n",
       "    .dataframe tbody tr th:only-of-type {\n",
       "        vertical-align: middle;\n",
       "    }\n",
       "\n",
       "    .dataframe tbody tr th {\n",
       "        vertical-align: top;\n",
       "    }\n",
       "\n",
       "    .dataframe thead th {\n",
       "        text-align: right;\n",
       "    }\n",
       "</style>\n",
       "<table border=\"1\" class=\"dataframe\">\n",
       "  <thead>\n",
       "    <tr style=\"text-align: right;\">\n",
       "      <th></th>\n",
       "      <th>id</th>\n",
       "      <th>title</th>\n",
       "      <th>type</th>\n",
       "      <th>description</th>\n",
       "      <th>release_year</th>\n",
       "      <th>age_certification</th>\n",
       "      <th>runtime</th>\n",
       "      <th>genres</th>\n",
       "      <th>production_countries</th>\n",
       "      <th>seasons</th>\n",
       "      <th>imdb_id</th>\n",
       "      <th>imdb_score</th>\n",
       "      <th>imdb_votes</th>\n",
       "      <th>tmdb_popularity</th>\n",
       "      <th>tmdb_score</th>\n",
       "      <th>actors</th>\n",
       "    </tr>\n",
       "  </thead>\n",
       "  <tbody>\n",
       "    <tr>\n",
       "      <th>0</th>\n",
       "      <td>ts300399</td>\n",
       "      <td>Five Came Back: The Reference Films</td>\n",
       "      <td>SHOW</td>\n",
       "      <td>This collection includes 12 World War II-era p...</td>\n",
       "      <td>1945</td>\n",
       "      <td>TV-MA</td>\n",
       "      <td>51</td>\n",
       "      <td>['documentation']</td>\n",
       "      <td>['US']</td>\n",
       "      <td>1.0</td>\n",
       "      <td>NaN</td>\n",
       "      <td>NaN</td>\n",
       "      <td>NaN</td>\n",
       "      <td>0.600</td>\n",
       "      <td>NaN</td>\n",
       "      <td>NaN</td>\n",
       "    </tr>\n",
       "    <tr>\n",
       "      <th>1</th>\n",
       "      <td>tm84618</td>\n",
       "      <td>Taxi Driver</td>\n",
       "      <td>MOVIE</td>\n",
       "      <td>A mentally unstable Vietnam War veteran works ...</td>\n",
       "      <td>1976</td>\n",
       "      <td>R</td>\n",
       "      <td>114</td>\n",
       "      <td>['drama', 'crime']</td>\n",
       "      <td>['US']</td>\n",
       "      <td>NaN</td>\n",
       "      <td>tt0075314</td>\n",
       "      <td>8.2</td>\n",
       "      <td>808582.0</td>\n",
       "      <td>40.965</td>\n",
       "      <td>8.179</td>\n",
       "      <td>[Robert De Niro, Jodie Foster, Albert Brooks, ...</td>\n",
       "    </tr>\n",
       "    <tr>\n",
       "      <th>2</th>\n",
       "      <td>tm154986</td>\n",
       "      <td>Deliverance</td>\n",
       "      <td>MOVIE</td>\n",
       "      <td>Intent on seeing the Cahulawassee River before...</td>\n",
       "      <td>1972</td>\n",
       "      <td>R</td>\n",
       "      <td>109</td>\n",
       "      <td>['drama', 'action', 'thriller', 'european']</td>\n",
       "      <td>['US']</td>\n",
       "      <td>NaN</td>\n",
       "      <td>tt0068473</td>\n",
       "      <td>7.7</td>\n",
       "      <td>107673.0</td>\n",
       "      <td>10.010</td>\n",
       "      <td>7.300</td>\n",
       "      <td>[Jon Voight, Burt Reynolds, Ned Beatty, Ronny ...</td>\n",
       "    </tr>\n",
       "    <tr>\n",
       "      <th>3</th>\n",
       "      <td>tm127384</td>\n",
       "      <td>Monty Python and the Holy Grail</td>\n",
       "      <td>MOVIE</td>\n",
       "      <td>King Arthur, accompanied by his squire, recrui...</td>\n",
       "      <td>1975</td>\n",
       "      <td>PG</td>\n",
       "      <td>91</td>\n",
       "      <td>['fantasy', 'action', 'comedy']</td>\n",
       "      <td>['GB']</td>\n",
       "      <td>NaN</td>\n",
       "      <td>tt0071853</td>\n",
       "      <td>8.2</td>\n",
       "      <td>534486.0</td>\n",
       "      <td>15.461</td>\n",
       "      <td>7.811</td>\n",
       "      <td>[Graham Chapman, John Cleese, Eric Idle, Terry...</td>\n",
       "    </tr>\n",
       "    <tr>\n",
       "      <th>4</th>\n",
       "      <td>tm120801</td>\n",
       "      <td>The Dirty Dozen</td>\n",
       "      <td>MOVIE</td>\n",
       "      <td>12 American military prisoners in World War II...</td>\n",
       "      <td>1967</td>\n",
       "      <td>NaN</td>\n",
       "      <td>150</td>\n",
       "      <td>['war', 'action']</td>\n",
       "      <td>['GB', 'US']</td>\n",
       "      <td>NaN</td>\n",
       "      <td>tt0061578</td>\n",
       "      <td>7.7</td>\n",
       "      <td>72662.0</td>\n",
       "      <td>20.398</td>\n",
       "      <td>7.600</td>\n",
       "      <td>[Lee Marvin, Ernest Borgnine, Charles Bronson,...</td>\n",
       "    </tr>\n",
       "  </tbody>\n",
       "</table>\n",
       "</div>"
      ],
      "text/plain": [
       "         id                                title   type  \\\n",
       "0  ts300399  Five Came Back: The Reference Films   SHOW   \n",
       "1   tm84618                          Taxi Driver  MOVIE   \n",
       "2  tm154986                          Deliverance  MOVIE   \n",
       "3  tm127384      Monty Python and the Holy Grail  MOVIE   \n",
       "4  tm120801                      The Dirty Dozen  MOVIE   \n",
       "\n",
       "                                         description  release_year  \\\n",
       "0  This collection includes 12 World War II-era p...          1945   \n",
       "1  A mentally unstable Vietnam War veteran works ...          1976   \n",
       "2  Intent on seeing the Cahulawassee River before...          1972   \n",
       "3  King Arthur, accompanied by his squire, recrui...          1975   \n",
       "4  12 American military prisoners in World War II...          1967   \n",
       "\n",
       "  age_certification  runtime                                       genres  \\\n",
       "0             TV-MA       51                            ['documentation']   \n",
       "1                 R      114                           ['drama', 'crime']   \n",
       "2                 R      109  ['drama', 'action', 'thriller', 'european']   \n",
       "3                PG       91              ['fantasy', 'action', 'comedy']   \n",
       "4               NaN      150                            ['war', 'action']   \n",
       "\n",
       "  production_countries  seasons    imdb_id  imdb_score  imdb_votes  \\\n",
       "0               ['US']      1.0        NaN         NaN         NaN   \n",
       "1               ['US']      NaN  tt0075314         8.2    808582.0   \n",
       "2               ['US']      NaN  tt0068473         7.7    107673.0   \n",
       "3               ['GB']      NaN  tt0071853         8.2    534486.0   \n",
       "4         ['GB', 'US']      NaN  tt0061578         7.7     72662.0   \n",
       "\n",
       "   tmdb_popularity  tmdb_score  \\\n",
       "0            0.600         NaN   \n",
       "1           40.965       8.179   \n",
       "2           10.010       7.300   \n",
       "3           15.461       7.811   \n",
       "4           20.398       7.600   \n",
       "\n",
       "                                              actors  \n",
       "0                                                NaN  \n",
       "1  [Robert De Niro, Jodie Foster, Albert Brooks, ...  \n",
       "2  [Jon Voight, Burt Reynolds, Ned Beatty, Ronny ...  \n",
       "3  [Graham Chapman, John Cleese, Eric Idle, Terry...  \n",
       "4  [Lee Marvin, Ernest Borgnine, Charles Bronson,...  "
      ]
     },
     "execution_count": 61,
     "metadata": {},
     "output_type": "execute_result"
    }
   ],
   "source": [
    "first_merge.head()"
   ]
  },
  {
   "cell_type": "code",
   "execution_count": 62,
   "id": "1ef1605e",
   "metadata": {},
   "outputs": [],
   "source": [
    "res = pd.merge(first_merge, directors.groupby('id')['name'].apply(list).reset_index(), on='id', how='left')"
   ]
  },
  {
   "cell_type": "code",
   "execution_count": 63,
   "id": "929516f1",
   "metadata": {},
   "outputs": [],
   "source": [
    "res.rename(columns={\"name\": \"directors\"}, inplace=True)"
   ]
  },
  {
   "cell_type": "code",
   "execution_count": 64,
   "id": "a1f4185e",
   "metadata": {},
   "outputs": [
    {
     "data": {
      "text/html": [
       "<div>\n",
       "<style scoped>\n",
       "    .dataframe tbody tr th:only-of-type {\n",
       "        vertical-align: middle;\n",
       "    }\n",
       "\n",
       "    .dataframe tbody tr th {\n",
       "        vertical-align: top;\n",
       "    }\n",
       "\n",
       "    .dataframe thead th {\n",
       "        text-align: right;\n",
       "    }\n",
       "</style>\n",
       "<table border=\"1\" class=\"dataframe\">\n",
       "  <thead>\n",
       "    <tr style=\"text-align: right;\">\n",
       "      <th></th>\n",
       "      <th>id</th>\n",
       "      <th>title</th>\n",
       "      <th>type</th>\n",
       "      <th>description</th>\n",
       "      <th>release_year</th>\n",
       "      <th>age_certification</th>\n",
       "      <th>runtime</th>\n",
       "      <th>genres</th>\n",
       "      <th>production_countries</th>\n",
       "      <th>seasons</th>\n",
       "      <th>imdb_id</th>\n",
       "      <th>imdb_score</th>\n",
       "      <th>imdb_votes</th>\n",
       "      <th>tmdb_popularity</th>\n",
       "      <th>tmdb_score</th>\n",
       "      <th>actors</th>\n",
       "      <th>directors</th>\n",
       "    </tr>\n",
       "  </thead>\n",
       "  <tbody>\n",
       "    <tr>\n",
       "      <th>0</th>\n",
       "      <td>ts300399</td>\n",
       "      <td>Five Came Back: The Reference Films</td>\n",
       "      <td>SHOW</td>\n",
       "      <td>This collection includes 12 World War II-era p...</td>\n",
       "      <td>1945</td>\n",
       "      <td>TV-MA</td>\n",
       "      <td>51</td>\n",
       "      <td>['documentation']</td>\n",
       "      <td>['US']</td>\n",
       "      <td>1.0</td>\n",
       "      <td>NaN</td>\n",
       "      <td>NaN</td>\n",
       "      <td>NaN</td>\n",
       "      <td>0.600</td>\n",
       "      <td>NaN</td>\n",
       "      <td>NaN</td>\n",
       "      <td>NaN</td>\n",
       "    </tr>\n",
       "    <tr>\n",
       "      <th>1</th>\n",
       "      <td>tm84618</td>\n",
       "      <td>Taxi Driver</td>\n",
       "      <td>MOVIE</td>\n",
       "      <td>A mentally unstable Vietnam War veteran works ...</td>\n",
       "      <td>1976</td>\n",
       "      <td>R</td>\n",
       "      <td>114</td>\n",
       "      <td>['drama', 'crime']</td>\n",
       "      <td>['US']</td>\n",
       "      <td>NaN</td>\n",
       "      <td>tt0075314</td>\n",
       "      <td>8.2</td>\n",
       "      <td>808582.0</td>\n",
       "      <td>40.965</td>\n",
       "      <td>8.179</td>\n",
       "      <td>[Robert De Niro, Jodie Foster, Albert Brooks, ...</td>\n",
       "      <td>[Martin Scorsese]</td>\n",
       "    </tr>\n",
       "    <tr>\n",
       "      <th>2</th>\n",
       "      <td>tm154986</td>\n",
       "      <td>Deliverance</td>\n",
       "      <td>MOVIE</td>\n",
       "      <td>Intent on seeing the Cahulawassee River before...</td>\n",
       "      <td>1972</td>\n",
       "      <td>R</td>\n",
       "      <td>109</td>\n",
       "      <td>['drama', 'action', 'thriller', 'european']</td>\n",
       "      <td>['US']</td>\n",
       "      <td>NaN</td>\n",
       "      <td>tt0068473</td>\n",
       "      <td>7.7</td>\n",
       "      <td>107673.0</td>\n",
       "      <td>10.010</td>\n",
       "      <td>7.300</td>\n",
       "      <td>[Jon Voight, Burt Reynolds, Ned Beatty, Ronny ...</td>\n",
       "      <td>[John Boorman]</td>\n",
       "    </tr>\n",
       "    <tr>\n",
       "      <th>3</th>\n",
       "      <td>tm127384</td>\n",
       "      <td>Monty Python and the Holy Grail</td>\n",
       "      <td>MOVIE</td>\n",
       "      <td>King Arthur, accompanied by his squire, recrui...</td>\n",
       "      <td>1975</td>\n",
       "      <td>PG</td>\n",
       "      <td>91</td>\n",
       "      <td>['fantasy', 'action', 'comedy']</td>\n",
       "      <td>['GB']</td>\n",
       "      <td>NaN</td>\n",
       "      <td>tt0071853</td>\n",
       "      <td>8.2</td>\n",
       "      <td>534486.0</td>\n",
       "      <td>15.461</td>\n",
       "      <td>7.811</td>\n",
       "      <td>[Graham Chapman, John Cleese, Eric Idle, Terry...</td>\n",
       "      <td>[Terry Jones, Terry Gilliam]</td>\n",
       "    </tr>\n",
       "    <tr>\n",
       "      <th>4</th>\n",
       "      <td>tm120801</td>\n",
       "      <td>The Dirty Dozen</td>\n",
       "      <td>MOVIE</td>\n",
       "      <td>12 American military prisoners in World War II...</td>\n",
       "      <td>1967</td>\n",
       "      <td>NaN</td>\n",
       "      <td>150</td>\n",
       "      <td>['war', 'action']</td>\n",
       "      <td>['GB', 'US']</td>\n",
       "      <td>NaN</td>\n",
       "      <td>tt0061578</td>\n",
       "      <td>7.7</td>\n",
       "      <td>72662.0</td>\n",
       "      <td>20.398</td>\n",
       "      <td>7.600</td>\n",
       "      <td>[Lee Marvin, Ernest Borgnine, Charles Bronson,...</td>\n",
       "      <td>[Robert Aldrich]</td>\n",
       "    </tr>\n",
       "  </tbody>\n",
       "</table>\n",
       "</div>"
      ],
      "text/plain": [
       "         id                                title   type  \\\n",
       "0  ts300399  Five Came Back: The Reference Films   SHOW   \n",
       "1   tm84618                          Taxi Driver  MOVIE   \n",
       "2  tm154986                          Deliverance  MOVIE   \n",
       "3  tm127384      Monty Python and the Holy Grail  MOVIE   \n",
       "4  tm120801                      The Dirty Dozen  MOVIE   \n",
       "\n",
       "                                         description  release_year  \\\n",
       "0  This collection includes 12 World War II-era p...          1945   \n",
       "1  A mentally unstable Vietnam War veteran works ...          1976   \n",
       "2  Intent on seeing the Cahulawassee River before...          1972   \n",
       "3  King Arthur, accompanied by his squire, recrui...          1975   \n",
       "4  12 American military prisoners in World War II...          1967   \n",
       "\n",
       "  age_certification  runtime                                       genres  \\\n",
       "0             TV-MA       51                            ['documentation']   \n",
       "1                 R      114                           ['drama', 'crime']   \n",
       "2                 R      109  ['drama', 'action', 'thriller', 'european']   \n",
       "3                PG       91              ['fantasy', 'action', 'comedy']   \n",
       "4               NaN      150                            ['war', 'action']   \n",
       "\n",
       "  production_countries  seasons    imdb_id  imdb_score  imdb_votes  \\\n",
       "0               ['US']      1.0        NaN         NaN         NaN   \n",
       "1               ['US']      NaN  tt0075314         8.2    808582.0   \n",
       "2               ['US']      NaN  tt0068473         7.7    107673.0   \n",
       "3               ['GB']      NaN  tt0071853         8.2    534486.0   \n",
       "4         ['GB', 'US']      NaN  tt0061578         7.7     72662.0   \n",
       "\n",
       "   tmdb_popularity  tmdb_score  \\\n",
       "0            0.600         NaN   \n",
       "1           40.965       8.179   \n",
       "2           10.010       7.300   \n",
       "3           15.461       7.811   \n",
       "4           20.398       7.600   \n",
       "\n",
       "                                              actors  \\\n",
       "0                                                NaN   \n",
       "1  [Robert De Niro, Jodie Foster, Albert Brooks, ...   \n",
       "2  [Jon Voight, Burt Reynolds, Ned Beatty, Ronny ...   \n",
       "3  [Graham Chapman, John Cleese, Eric Idle, Terry...   \n",
       "4  [Lee Marvin, Ernest Borgnine, Charles Bronson,...   \n",
       "\n",
       "                      directors  \n",
       "0                           NaN  \n",
       "1             [Martin Scorsese]  \n",
       "2                [John Boorman]  \n",
       "3  [Terry Jones, Terry Gilliam]  \n",
       "4              [Robert Aldrich]  "
      ]
     },
     "execution_count": 64,
     "metadata": {},
     "output_type": "execute_result"
    }
   ],
   "source": [
    "res.head()"
   ]
  },
  {
   "cell_type": "code",
   "execution_count": 65,
   "id": "e5c27e04",
   "metadata": {},
   "outputs": [
    {
     "data": {
      "text/plain": [
       "(5850, 17)"
      ]
     },
     "execution_count": 65,
     "metadata": {},
     "output_type": "execute_result"
    }
   ],
   "source": [
    "res.shape"
   ]
  },
  {
   "cell_type": "markdown",
   "id": "55b3d992",
   "metadata": {},
   "source": [
    "Now, let's output this data into a csv file for later usage."
   ]
  },
  {
   "cell_type": "code",
   "execution_count": 66,
   "id": "f8cf3753",
   "metadata": {},
   "outputs": [],
   "source": [
    "res.to_csv('raw_data/title_info.csv')"
   ]
  },
  {
   "cell_type": "markdown",
   "id": "3975f57f",
   "metadata": {},
   "source": [
    "Now, let's import the titles that we will be using for the analysis, due to the existence of the date added to Netflix."
   ]
  },
  {
   "cell_type": "code",
   "execution_count": 67,
   "id": "0c1af705",
   "metadata": {},
   "outputs": [],
   "source": [
    "titles = pd.read_csv('raw_data/titles.csv')"
   ]
  },
  {
   "cell_type": "code",
   "execution_count": 68,
   "id": "61038284",
   "metadata": {},
   "outputs": [],
   "source": [
    "titles['date_added'] = pd.to_datetime(titles['date_added'])"
   ]
  },
  {
   "cell_type": "code",
   "execution_count": 69,
   "id": "db16fc07",
   "metadata": {},
   "outputs": [],
   "source": [
    "titles['year_added'] = titles['date_added'].dt.year"
   ]
  },
  {
   "cell_type": "code",
   "execution_count": 70,
   "id": "c93c5b8c",
   "metadata": {},
   "outputs": [
    {
     "data": {
      "text/plain": [
       "False    8797\n",
       "True       10\n",
       "Name: year_added, dtype: int64"
      ]
     },
     "execution_count": 70,
     "metadata": {},
     "output_type": "execute_result"
    }
   ],
   "source": [
    "titles['year_added'].isna().value_counts()"
   ]
  },
  {
   "cell_type": "code",
   "execution_count": 71,
   "id": "fd4d8a7e",
   "metadata": {},
   "outputs": [],
   "source": [
    "titles.dropna(subset=['year_added'], inplace=True)"
   ]
  },
  {
   "cell_type": "code",
   "execution_count": 72,
   "id": "738c9567",
   "metadata": {},
   "outputs": [
    {
     "data": {
      "text/plain": [
       "False    8797\n",
       "Name: year_added, dtype: int64"
      ]
     },
     "execution_count": 72,
     "metadata": {},
     "output_type": "execute_result"
    }
   ],
   "source": [
    "titles['year_added'].isna().value_counts()"
   ]
  },
  {
   "cell_type": "code",
   "execution_count": 73,
   "id": "4a2c6830",
   "metadata": {},
   "outputs": [],
   "source": [
    "titles['year_added'] = titles['year_added'].astype('int')"
   ]
  },
  {
   "cell_type": "code",
   "execution_count": 74,
   "id": "ec4d7c7c",
   "metadata": {},
   "outputs": [],
   "source": [
    "titles['month_added'] = titles['date_added'].dt.strftime('%B')"
   ]
  },
  {
   "cell_type": "code",
   "execution_count": 75,
   "id": "529d5bce",
   "metadata": {},
   "outputs": [
    {
     "data": {
      "text/plain": [
       "False    8797\n",
       "Name: month_added, dtype: int64"
      ]
     },
     "execution_count": 75,
     "metadata": {},
     "output_type": "execute_result"
    }
   ],
   "source": [
    "titles['month_added'].isna().value_counts()"
   ]
  },
  {
   "cell_type": "code",
   "execution_count": 76,
   "id": "2a2883d7",
   "metadata": {},
   "outputs": [],
   "source": [
    "titles['year_month_added'] = titles['date_added'].dt.strftime('%B, %Y')"
   ]
  },
  {
   "cell_type": "code",
   "execution_count": 77,
   "id": "8c13bc39",
   "metadata": {},
   "outputs": [
    {
     "data": {
      "text/plain": [
       "False    8797\n",
       "Name: year_month_added, dtype: int64"
      ]
     },
     "execution_count": 77,
     "metadata": {},
     "output_type": "execute_result"
    }
   ],
   "source": [
    "titles['year_month_added'].isna().value_counts()"
   ]
  },
  {
   "cell_type": "code",
   "execution_count": 78,
   "id": "9e3840ad",
   "metadata": {},
   "outputs": [
    {
     "data": {
      "text/html": [
       "<div>\n",
       "<style scoped>\n",
       "    .dataframe tbody tr th:only-of-type {\n",
       "        vertical-align: middle;\n",
       "    }\n",
       "\n",
       "    .dataframe tbody tr th {\n",
       "        vertical-align: top;\n",
       "    }\n",
       "\n",
       "    .dataframe thead th {\n",
       "        text-align: right;\n",
       "    }\n",
       "</style>\n",
       "<table border=\"1\" class=\"dataframe\">\n",
       "  <thead>\n",
       "    <tr style=\"text-align: right;\">\n",
       "      <th></th>\n",
       "      <th>show_id</th>\n",
       "      <th>type</th>\n",
       "      <th>title</th>\n",
       "      <th>director</th>\n",
       "      <th>cast</th>\n",
       "      <th>country</th>\n",
       "      <th>date_added</th>\n",
       "      <th>release_year</th>\n",
       "      <th>rating</th>\n",
       "      <th>duration</th>\n",
       "      <th>listed_in</th>\n",
       "      <th>description</th>\n",
       "      <th>year_added</th>\n",
       "      <th>month_added</th>\n",
       "      <th>year_month_added</th>\n",
       "    </tr>\n",
       "  </thead>\n",
       "  <tbody>\n",
       "    <tr>\n",
       "      <th>0</th>\n",
       "      <td>s1</td>\n",
       "      <td>Movie</td>\n",
       "      <td>Dick Johnson Is Dead</td>\n",
       "      <td>Kirsten Johnson</td>\n",
       "      <td>NaN</td>\n",
       "      <td>United States</td>\n",
       "      <td>2021-09-25</td>\n",
       "      <td>2020</td>\n",
       "      <td>PG-13</td>\n",
       "      <td>90 min</td>\n",
       "      <td>Documentaries</td>\n",
       "      <td>As her father nears the end of his life, filmm...</td>\n",
       "      <td>2021</td>\n",
       "      <td>September</td>\n",
       "      <td>September, 2021</td>\n",
       "    </tr>\n",
       "    <tr>\n",
       "      <th>1</th>\n",
       "      <td>s2</td>\n",
       "      <td>TV Show</td>\n",
       "      <td>Blood &amp; Water</td>\n",
       "      <td>NaN</td>\n",
       "      <td>Ama Qamata, Khosi Ngema, Gail Mabalane, Thaban...</td>\n",
       "      <td>South Africa</td>\n",
       "      <td>2021-09-24</td>\n",
       "      <td>2021</td>\n",
       "      <td>TV-MA</td>\n",
       "      <td>2 Seasons</td>\n",
       "      <td>International TV Shows, TV Dramas, TV Mysteries</td>\n",
       "      <td>After crossing paths at a party, a Cape Town t...</td>\n",
       "      <td>2021</td>\n",
       "      <td>September</td>\n",
       "      <td>September, 2021</td>\n",
       "    </tr>\n",
       "    <tr>\n",
       "      <th>2</th>\n",
       "      <td>s3</td>\n",
       "      <td>TV Show</td>\n",
       "      <td>Ganglands</td>\n",
       "      <td>Julien Leclercq</td>\n",
       "      <td>Sami Bouajila, Tracy Gotoas, Samuel Jouy, Nabi...</td>\n",
       "      <td>NaN</td>\n",
       "      <td>2021-09-24</td>\n",
       "      <td>2021</td>\n",
       "      <td>TV-MA</td>\n",
       "      <td>1 Season</td>\n",
       "      <td>Crime TV Shows, International TV Shows, TV Act...</td>\n",
       "      <td>To protect his family from a powerful drug lor...</td>\n",
       "      <td>2021</td>\n",
       "      <td>September</td>\n",
       "      <td>September, 2021</td>\n",
       "    </tr>\n",
       "    <tr>\n",
       "      <th>3</th>\n",
       "      <td>s4</td>\n",
       "      <td>TV Show</td>\n",
       "      <td>Jailbirds New Orleans</td>\n",
       "      <td>NaN</td>\n",
       "      <td>NaN</td>\n",
       "      <td>NaN</td>\n",
       "      <td>2021-09-24</td>\n",
       "      <td>2021</td>\n",
       "      <td>TV-MA</td>\n",
       "      <td>1 Season</td>\n",
       "      <td>Docuseries, Reality TV</td>\n",
       "      <td>Feuds, flirtations and toilet talk go down amo...</td>\n",
       "      <td>2021</td>\n",
       "      <td>September</td>\n",
       "      <td>September, 2021</td>\n",
       "    </tr>\n",
       "    <tr>\n",
       "      <th>4</th>\n",
       "      <td>s5</td>\n",
       "      <td>TV Show</td>\n",
       "      <td>Kota Factory</td>\n",
       "      <td>NaN</td>\n",
       "      <td>Mayur More, Jitendra Kumar, Ranjan Raj, Alam K...</td>\n",
       "      <td>India</td>\n",
       "      <td>2021-09-24</td>\n",
       "      <td>2021</td>\n",
       "      <td>TV-MA</td>\n",
       "      <td>2 Seasons</td>\n",
       "      <td>International TV Shows, Romantic TV Shows, TV ...</td>\n",
       "      <td>In a city of coaching centers known to train I...</td>\n",
       "      <td>2021</td>\n",
       "      <td>September</td>\n",
       "      <td>September, 2021</td>\n",
       "    </tr>\n",
       "  </tbody>\n",
       "</table>\n",
       "</div>"
      ],
      "text/plain": [
       "  show_id     type                  title         director  \\\n",
       "0      s1    Movie   Dick Johnson Is Dead  Kirsten Johnson   \n",
       "1      s2  TV Show          Blood & Water              NaN   \n",
       "2      s3  TV Show              Ganglands  Julien Leclercq   \n",
       "3      s4  TV Show  Jailbirds New Orleans              NaN   \n",
       "4      s5  TV Show           Kota Factory              NaN   \n",
       "\n",
       "                                                cast        country  \\\n",
       "0                                                NaN  United States   \n",
       "1  Ama Qamata, Khosi Ngema, Gail Mabalane, Thaban...   South Africa   \n",
       "2  Sami Bouajila, Tracy Gotoas, Samuel Jouy, Nabi...            NaN   \n",
       "3                                                NaN            NaN   \n",
       "4  Mayur More, Jitendra Kumar, Ranjan Raj, Alam K...          India   \n",
       "\n",
       "  date_added  release_year rating   duration  \\\n",
       "0 2021-09-25          2020  PG-13     90 min   \n",
       "1 2021-09-24          2021  TV-MA  2 Seasons   \n",
       "2 2021-09-24          2021  TV-MA   1 Season   \n",
       "3 2021-09-24          2021  TV-MA   1 Season   \n",
       "4 2021-09-24          2021  TV-MA  2 Seasons   \n",
       "\n",
       "                                           listed_in  \\\n",
       "0                                      Documentaries   \n",
       "1    International TV Shows, TV Dramas, TV Mysteries   \n",
       "2  Crime TV Shows, International TV Shows, TV Act...   \n",
       "3                             Docuseries, Reality TV   \n",
       "4  International TV Shows, Romantic TV Shows, TV ...   \n",
       "\n",
       "                                         description  year_added month_added  \\\n",
       "0  As her father nears the end of his life, filmm...        2021   September   \n",
       "1  After crossing paths at a party, a Cape Town t...        2021   September   \n",
       "2  To protect his family from a powerful drug lor...        2021   September   \n",
       "3  Feuds, flirtations and toilet talk go down amo...        2021   September   \n",
       "4  In a city of coaching centers known to train I...        2021   September   \n",
       "\n",
       "  year_month_added  \n",
       "0  September, 2021  \n",
       "1  September, 2021  \n",
       "2  September, 2021  \n",
       "3  September, 2021  \n",
       "4  September, 2021  "
      ]
     },
     "execution_count": 78,
     "metadata": {},
     "output_type": "execute_result"
    }
   ],
   "source": [
    "titles.head()"
   ]
  },
  {
   "cell_type": "code",
   "execution_count": 79,
   "id": "3ef488b4",
   "metadata": {},
   "outputs": [
    {
     "data": {
      "text/plain": [
       "2019    2016\n",
       "2020    1879\n",
       "2018    1649\n",
       "2021    1498\n",
       "2017    1188\n",
       "2016     429\n",
       "2015      82\n",
       "2014      24\n",
       "2011      13\n",
       "2013      11\n",
       "2012       3\n",
       "2009       2\n",
       "2008       2\n",
       "2010       1\n",
       "Name: year_added, dtype: int64"
      ]
     },
     "execution_count": 79,
     "metadata": {},
     "output_type": "execute_result"
    }
   ],
   "source": [
    "titles['year_added'].value_counts()"
   ]
  },
  {
   "cell_type": "markdown",
   "id": "712b49b5",
   "metadata": {},
   "source": [
    "I will subset the data to 2016-2021 because the other years don't have enough titles for relevant analysis."
   ]
  },
  {
   "cell_type": "code",
   "execution_count": 80,
   "id": "1391f090",
   "metadata": {},
   "outputs": [],
   "source": [
    "year_condition = (titles['year_added'] >= 2016) & (titles['year_added'] <= 2021)"
   ]
  },
  {
   "cell_type": "code",
   "execution_count": 81,
   "id": "66cce703",
   "metadata": {},
   "outputs": [],
   "source": [
    "titles = titles[year_condition]"
   ]
  },
  {
   "cell_type": "markdown",
   "id": "43867412",
   "metadata": {},
   "source": [
    "Now, I will subset both the `res` and `titles` dataframe for easy merging."
   ]
  },
  {
   "cell_type": "code",
   "execution_count": 82,
   "id": "d82685a5",
   "metadata": {},
   "outputs": [],
   "source": [
    "titles_subset = titles[['title', 'country', 'release_year', 'rating', 'duration', 'description', 'year_added', 'month_added', 'year_month_added']]"
   ]
  },
  {
   "cell_type": "code",
   "execution_count": 83,
   "id": "73d14e17",
   "metadata": {},
   "outputs": [
    {
     "data": {
      "text/html": [
       "<div>\n",
       "<style scoped>\n",
       "    .dataframe tbody tr th:only-of-type {\n",
       "        vertical-align: middle;\n",
       "    }\n",
       "\n",
       "    .dataframe tbody tr th {\n",
       "        vertical-align: top;\n",
       "    }\n",
       "\n",
       "    .dataframe thead th {\n",
       "        text-align: right;\n",
       "    }\n",
       "</style>\n",
       "<table border=\"1\" class=\"dataframe\">\n",
       "  <thead>\n",
       "    <tr style=\"text-align: right;\">\n",
       "      <th></th>\n",
       "      <th>title</th>\n",
       "      <th>country</th>\n",
       "      <th>release_year</th>\n",
       "      <th>rating</th>\n",
       "      <th>duration</th>\n",
       "      <th>description</th>\n",
       "      <th>year_added</th>\n",
       "      <th>month_added</th>\n",
       "      <th>year_month_added</th>\n",
       "    </tr>\n",
       "  </thead>\n",
       "  <tbody>\n",
       "    <tr>\n",
       "      <th>0</th>\n",
       "      <td>Dick Johnson Is Dead</td>\n",
       "      <td>United States</td>\n",
       "      <td>2020</td>\n",
       "      <td>PG-13</td>\n",
       "      <td>90 min</td>\n",
       "      <td>As her father nears the end of his life, filmm...</td>\n",
       "      <td>2021</td>\n",
       "      <td>September</td>\n",
       "      <td>September, 2021</td>\n",
       "    </tr>\n",
       "    <tr>\n",
       "      <th>1</th>\n",
       "      <td>Blood &amp; Water</td>\n",
       "      <td>South Africa</td>\n",
       "      <td>2021</td>\n",
       "      <td>TV-MA</td>\n",
       "      <td>2 Seasons</td>\n",
       "      <td>After crossing paths at a party, a Cape Town t...</td>\n",
       "      <td>2021</td>\n",
       "      <td>September</td>\n",
       "      <td>September, 2021</td>\n",
       "    </tr>\n",
       "    <tr>\n",
       "      <th>2</th>\n",
       "      <td>Ganglands</td>\n",
       "      <td>NaN</td>\n",
       "      <td>2021</td>\n",
       "      <td>TV-MA</td>\n",
       "      <td>1 Season</td>\n",
       "      <td>To protect his family from a powerful drug lor...</td>\n",
       "      <td>2021</td>\n",
       "      <td>September</td>\n",
       "      <td>September, 2021</td>\n",
       "    </tr>\n",
       "    <tr>\n",
       "      <th>3</th>\n",
       "      <td>Jailbirds New Orleans</td>\n",
       "      <td>NaN</td>\n",
       "      <td>2021</td>\n",
       "      <td>TV-MA</td>\n",
       "      <td>1 Season</td>\n",
       "      <td>Feuds, flirtations and toilet talk go down amo...</td>\n",
       "      <td>2021</td>\n",
       "      <td>September</td>\n",
       "      <td>September, 2021</td>\n",
       "    </tr>\n",
       "    <tr>\n",
       "      <th>4</th>\n",
       "      <td>Kota Factory</td>\n",
       "      <td>India</td>\n",
       "      <td>2021</td>\n",
       "      <td>TV-MA</td>\n",
       "      <td>2 Seasons</td>\n",
       "      <td>In a city of coaching centers known to train I...</td>\n",
       "      <td>2021</td>\n",
       "      <td>September</td>\n",
       "      <td>September, 2021</td>\n",
       "    </tr>\n",
       "  </tbody>\n",
       "</table>\n",
       "</div>"
      ],
      "text/plain": [
       "                   title        country  release_year rating   duration  \\\n",
       "0   Dick Johnson Is Dead  United States          2020  PG-13     90 min   \n",
       "1          Blood & Water   South Africa          2021  TV-MA  2 Seasons   \n",
       "2              Ganglands            NaN          2021  TV-MA   1 Season   \n",
       "3  Jailbirds New Orleans            NaN          2021  TV-MA   1 Season   \n",
       "4           Kota Factory          India          2021  TV-MA  2 Seasons   \n",
       "\n",
       "                                         description  year_added month_added  \\\n",
       "0  As her father nears the end of his life, filmm...        2021   September   \n",
       "1  After crossing paths at a party, a Cape Town t...        2021   September   \n",
       "2  To protect his family from a powerful drug lor...        2021   September   \n",
       "3  Feuds, flirtations and toilet talk go down amo...        2021   September   \n",
       "4  In a city of coaching centers known to train I...        2021   September   \n",
       "\n",
       "  year_month_added  \n",
       "0  September, 2021  \n",
       "1  September, 2021  \n",
       "2  September, 2021  \n",
       "3  September, 2021  \n",
       "4  September, 2021  "
      ]
     },
     "execution_count": 83,
     "metadata": {},
     "output_type": "execute_result"
    }
   ],
   "source": [
    "titles_subset.head()"
   ]
  },
  {
   "cell_type": "code",
   "execution_count": 84,
   "id": "f3d8ff47",
   "metadata": {},
   "outputs": [
    {
     "data": {
      "text/plain": [
       "(8659, 9)"
      ]
     },
     "execution_count": 84,
     "metadata": {},
     "output_type": "execute_result"
    }
   ],
   "source": [
    "titles_subset.shape"
   ]
  },
  {
   "cell_type": "code",
   "execution_count": 85,
   "id": "596e8d4f",
   "metadata": {},
   "outputs": [
    {
     "data": {
      "text/plain": [
       "title  country  release_year  rating  duration  description  year_added  month_added  year_month_added\n",
       "False  False    False         False   False     False        False       False        False               7826\n",
       "       True     False         False   False     False        False       False        False                826\n",
       "       False    False         False   True      False        False       False        False                  3\n",
       "                              True    False     False        False       False        False                  3\n",
       "       True     False         True    False     False        False       False        False                  1\n",
       "dtype: int64"
      ]
     },
     "execution_count": 85,
     "metadata": {},
     "output_type": "execute_result"
    }
   ],
   "source": [
    "titles_subset.isna().value_counts()"
   ]
  },
  {
   "cell_type": "code",
   "execution_count": 86,
   "id": "f3c50cd6",
   "metadata": {},
   "outputs": [],
   "source": [
    "info_subset = res[['title', 'imdb_score', 'genres', 'actors', 'directors']]"
   ]
  },
  {
   "cell_type": "code",
   "execution_count": 87,
   "id": "7835ae17",
   "metadata": {},
   "outputs": [
    {
     "data": {
      "text/plain": [
       "(5850, 5)"
      ]
     },
     "execution_count": 87,
     "metadata": {},
     "output_type": "execute_result"
    }
   ],
   "source": [
    "info_subset.shape"
   ]
  },
  {
   "cell_type": "code",
   "execution_count": 88,
   "id": "30af47a5",
   "metadata": {},
   "outputs": [],
   "source": [
    "info_subset = info_subset[(info_subset['imdb_score'].isna() == False)]"
   ]
  },
  {
   "cell_type": "code",
   "execution_count": 89,
   "id": "4be046ec",
   "metadata": {},
   "outputs": [
    {
     "data": {
      "text/plain": [
       "(5368, 5)"
      ]
     },
     "execution_count": 89,
     "metadata": {},
     "output_type": "execute_result"
    }
   ],
   "source": [
    "info_subset.shape"
   ]
  },
  {
   "cell_type": "markdown",
   "id": "0e614aad",
   "metadata": {},
   "source": [
    "Now, let's merge the two subsets to see all of the matched information."
   ]
  },
  {
   "cell_type": "code",
   "execution_count": 90,
   "id": "2396916c",
   "metadata": {},
   "outputs": [],
   "source": [
    "temp = pd.merge(titles_subset, info_subset, on='title', how='left')"
   ]
  },
  {
   "cell_type": "code",
   "execution_count": 91,
   "id": "f4108ef5",
   "metadata": {},
   "outputs": [
    {
     "data": {
      "text/html": [
       "<div>\n",
       "<style scoped>\n",
       "    .dataframe tbody tr th:only-of-type {\n",
       "        vertical-align: middle;\n",
       "    }\n",
       "\n",
       "    .dataframe tbody tr th {\n",
       "        vertical-align: top;\n",
       "    }\n",
       "\n",
       "    .dataframe thead th {\n",
       "        text-align: right;\n",
       "    }\n",
       "</style>\n",
       "<table border=\"1\" class=\"dataframe\">\n",
       "  <thead>\n",
       "    <tr style=\"text-align: right;\">\n",
       "      <th></th>\n",
       "      <th>Missing Values</th>\n",
       "    </tr>\n",
       "  </thead>\n",
       "  <tbody>\n",
       "    <tr>\n",
       "      <th>country</th>\n",
       "      <td>831</td>\n",
       "    </tr>\n",
       "    <tr>\n",
       "      <th>rating</th>\n",
       "      <td>4</td>\n",
       "    </tr>\n",
       "    <tr>\n",
       "      <th>duration</th>\n",
       "      <td>3</td>\n",
       "    </tr>\n",
       "    <tr>\n",
       "      <th>imdb_score</th>\n",
       "      <td>5036</td>\n",
       "    </tr>\n",
       "    <tr>\n",
       "      <th>genres</th>\n",
       "      <td>5036</td>\n",
       "    </tr>\n",
       "    <tr>\n",
       "      <th>actors</th>\n",
       "      <td>5318</td>\n",
       "    </tr>\n",
       "    <tr>\n",
       "      <th>directors</th>\n",
       "      <td>6234</td>\n",
       "    </tr>\n",
       "  </tbody>\n",
       "</table>\n",
       "</div>"
      ],
      "text/plain": [
       "            Missing Values\n",
       "country                831\n",
       "rating                   4\n",
       "duration                 3\n",
       "imdb_score            5036\n",
       "genres                5036\n",
       "actors                5318\n",
       "directors             6234"
      ]
     },
     "metadata": {},
     "output_type": "display_data"
    }
   ],
   "source": [
    "na_counts = temp.isna().sum()\n",
    "na_counts = na_counts[na_counts > 0]\n",
    "display(na_counts.to_frame(name='Missing Values'))"
   ]
  },
  {
   "cell_type": "code",
   "execution_count": 92,
   "id": "152ed6d7",
   "metadata": {},
   "outputs": [
    {
     "data": {
      "text/plain": [
       "(3663, 13)"
      ]
     },
     "execution_count": 92,
     "metadata": {},
     "output_type": "execute_result"
    }
   ],
   "source": [
    "temp.dropna(subset=['genres']).shape"
   ]
  },
  {
   "cell_type": "markdown",
   "id": "16167fa3",
   "metadata": {},
   "source": [
    "But, before confirming that I want to drop all values without genres and imdb scores for analysis, I want to explore more about the remaining data."
   ]
  },
  {
   "cell_type": "code",
   "execution_count": 93,
   "id": "8aed90c7",
   "metadata": {
    "scrolled": false
   },
   "outputs": [
    {
     "data": {
      "text/plain": [
       "2020    1032\n",
       "2021     878\n",
       "2019     737\n",
       "2018     569\n",
       "2017     321\n",
       "2016     126\n",
       "Name: year_added, dtype: int64"
      ]
     },
     "execution_count": 93,
     "metadata": {},
     "output_type": "execute_result"
    }
   ],
   "source": [
    "temp.dropna(subset=['genres']).year_added.value_counts()"
   ]
  },
  {
   "cell_type": "markdown",
   "id": "523d507a",
   "metadata": {},
   "source": [
    "That's a lot of data to be left out of the analysis, so, I will consider these non-null genre and imdb score data when they are relevant to any visualizations."
   ]
  },
  {
   "cell_type": "code",
   "execution_count": 95,
   "id": "e3414470",
   "metadata": {},
   "outputs": [],
   "source": [
    "temp.to_csv('data/titles.csv', index=False)"
   ]
  },
  {
   "cell_type": "markdown",
   "id": "5b7d1e26",
   "metadata": {},
   "source": [
    "Now, let's import the stocks data frame just to subset the data there."
   ]
  },
  {
   "cell_type": "code",
   "execution_count": 98,
   "id": "e477f9a8",
   "metadata": {},
   "outputs": [],
   "source": [
    "stocks = pd.read_csv('raw_data/stock.csv')"
   ]
  },
  {
   "cell_type": "code",
   "execution_count": 99,
   "id": "09c31428",
   "metadata": {},
   "outputs": [
    {
     "data": {
      "text/html": [
       "<div>\n",
       "<style scoped>\n",
       "    .dataframe tbody tr th:only-of-type {\n",
       "        vertical-align: middle;\n",
       "    }\n",
       "\n",
       "    .dataframe tbody tr th {\n",
       "        vertical-align: top;\n",
       "    }\n",
       "\n",
       "    .dataframe thead th {\n",
       "        text-align: right;\n",
       "    }\n",
       "</style>\n",
       "<table border=\"1\" class=\"dataframe\">\n",
       "  <thead>\n",
       "    <tr style=\"text-align: right;\">\n",
       "      <th></th>\n",
       "      <th>Date</th>\n",
       "      <th>Open</th>\n",
       "      <th>High</th>\n",
       "      <th>Low</th>\n",
       "      <th>Close</th>\n",
       "      <th>Adj Close</th>\n",
       "      <th>Volume</th>\n",
       "    </tr>\n",
       "  </thead>\n",
       "  <tbody>\n",
       "    <tr>\n",
       "      <th>0</th>\n",
       "      <td>2002-05-23</td>\n",
       "      <td>1.156429</td>\n",
       "      <td>1.242857</td>\n",
       "      <td>1.145714</td>\n",
       "      <td>1.196429</td>\n",
       "      <td>1.196429</td>\n",
       "      <td>104790000</td>\n",
       "    </tr>\n",
       "    <tr>\n",
       "      <th>1</th>\n",
       "      <td>2002-05-24</td>\n",
       "      <td>1.214286</td>\n",
       "      <td>1.225000</td>\n",
       "      <td>1.197143</td>\n",
       "      <td>1.210000</td>\n",
       "      <td>1.210000</td>\n",
       "      <td>11104800</td>\n",
       "    </tr>\n",
       "    <tr>\n",
       "      <th>2</th>\n",
       "      <td>2002-05-28</td>\n",
       "      <td>1.213571</td>\n",
       "      <td>1.232143</td>\n",
       "      <td>1.157143</td>\n",
       "      <td>1.157143</td>\n",
       "      <td>1.157143</td>\n",
       "      <td>6609400</td>\n",
       "    </tr>\n",
       "    <tr>\n",
       "      <th>3</th>\n",
       "      <td>2002-05-29</td>\n",
       "      <td>1.164286</td>\n",
       "      <td>1.164286</td>\n",
       "      <td>1.085714</td>\n",
       "      <td>1.103571</td>\n",
       "      <td>1.103571</td>\n",
       "      <td>6757800</td>\n",
       "    </tr>\n",
       "    <tr>\n",
       "      <th>4</th>\n",
       "      <td>2002-05-30</td>\n",
       "      <td>1.107857</td>\n",
       "      <td>1.107857</td>\n",
       "      <td>1.071429</td>\n",
       "      <td>1.071429</td>\n",
       "      <td>1.071429</td>\n",
       "      <td>10154200</td>\n",
       "    </tr>\n",
       "  </tbody>\n",
       "</table>\n",
       "</div>"
      ],
      "text/plain": [
       "         Date      Open      High       Low     Close  Adj Close     Volume\n",
       "0  2002-05-23  1.156429  1.242857  1.145714  1.196429   1.196429  104790000\n",
       "1  2002-05-24  1.214286  1.225000  1.197143  1.210000   1.210000   11104800\n",
       "2  2002-05-28  1.213571  1.232143  1.157143  1.157143   1.157143    6609400\n",
       "3  2002-05-29  1.164286  1.164286  1.085714  1.103571   1.103571    6757800\n",
       "4  2002-05-30  1.107857  1.107857  1.071429  1.071429   1.071429   10154200"
      ]
     },
     "execution_count": 99,
     "metadata": {},
     "output_type": "execute_result"
    }
   ],
   "source": [
    "stocks.head()"
   ]
  },
  {
   "cell_type": "code",
   "execution_count": 100,
   "id": "ac93d4a2",
   "metadata": {},
   "outputs": [],
   "source": [
    "stocks['Date'] = pd.to_datetime(stocks['Date'])"
   ]
  },
  {
   "cell_type": "code",
   "execution_count": 104,
   "id": "987915a5",
   "metadata": {},
   "outputs": [],
   "source": [
    "stocks['Year'] = stocks['Date'].dt.year"
   ]
  },
  {
   "cell_type": "code",
   "execution_count": 105,
   "id": "55ef988f",
   "metadata": {},
   "outputs": [],
   "source": [
    "stocks['Month'] = stocks['Date'].dt.strftime('%B')"
   ]
  },
  {
   "cell_type": "code",
   "execution_count": 106,
   "id": "d5c6d183",
   "metadata": {},
   "outputs": [],
   "source": [
    "stocks['Year-Month'] = stocks['Date'].dt.strftime('%B, %Y')"
   ]
  },
  {
   "cell_type": "code",
   "execution_count": 108,
   "id": "2c78771b",
   "metadata": {},
   "outputs": [],
   "source": [
    "stocks = stocks[(stocks['Year'] >= 2016) & (stocks['Year'] <= 2021)]"
   ]
  },
  {
   "cell_type": "code",
   "execution_count": 110,
   "id": "086c943e",
   "metadata": {},
   "outputs": [
    {
     "data": {
      "text/html": [
       "<div>\n",
       "<style scoped>\n",
       "    .dataframe tbody tr th:only-of-type {\n",
       "        vertical-align: middle;\n",
       "    }\n",
       "\n",
       "    .dataframe tbody tr th {\n",
       "        vertical-align: top;\n",
       "    }\n",
       "\n",
       "    .dataframe thead th {\n",
       "        text-align: right;\n",
       "    }\n",
       "</style>\n",
       "<table border=\"1\" class=\"dataframe\">\n",
       "  <thead>\n",
       "    <tr style=\"text-align: right;\">\n",
       "      <th></th>\n",
       "      <th>Date</th>\n",
       "      <th>Open</th>\n",
       "      <th>High</th>\n",
       "      <th>Low</th>\n",
       "      <th>Close</th>\n",
       "      <th>Adj Close</th>\n",
       "      <th>Volume</th>\n",
       "      <th>Year</th>\n",
       "      <th>Month</th>\n",
       "      <th>Year-Month</th>\n",
       "    </tr>\n",
       "  </thead>\n",
       "  <tbody>\n",
       "    <tr>\n",
       "      <th>3427</th>\n",
       "      <td>2016-01-04</td>\n",
       "      <td>109.000000</td>\n",
       "      <td>110.000000</td>\n",
       "      <td>105.209999</td>\n",
       "      <td>109.959999</td>\n",
       "      <td>109.959999</td>\n",
       "      <td>20794800</td>\n",
       "      <td>2016</td>\n",
       "      <td>January</td>\n",
       "      <td>January, 2016</td>\n",
       "    </tr>\n",
       "    <tr>\n",
       "      <th>3428</th>\n",
       "      <td>2016-01-05</td>\n",
       "      <td>110.449997</td>\n",
       "      <td>110.580002</td>\n",
       "      <td>105.849998</td>\n",
       "      <td>107.660004</td>\n",
       "      <td>107.660004</td>\n",
       "      <td>17664600</td>\n",
       "      <td>2016</td>\n",
       "      <td>January</td>\n",
       "      <td>January, 2016</td>\n",
       "    </tr>\n",
       "    <tr>\n",
       "      <th>3429</th>\n",
       "      <td>2016-01-06</td>\n",
       "      <td>105.290001</td>\n",
       "      <td>117.910004</td>\n",
       "      <td>104.959999</td>\n",
       "      <td>117.680000</td>\n",
       "      <td>117.680000</td>\n",
       "      <td>33045700</td>\n",
       "      <td>2016</td>\n",
       "      <td>January</td>\n",
       "      <td>January, 2016</td>\n",
       "    </tr>\n",
       "    <tr>\n",
       "      <th>3430</th>\n",
       "      <td>2016-01-07</td>\n",
       "      <td>116.360001</td>\n",
       "      <td>122.180000</td>\n",
       "      <td>112.290001</td>\n",
       "      <td>114.559998</td>\n",
       "      <td>114.559998</td>\n",
       "      <td>33636700</td>\n",
       "      <td>2016</td>\n",
       "      <td>January</td>\n",
       "      <td>January, 2016</td>\n",
       "    </tr>\n",
       "    <tr>\n",
       "      <th>3431</th>\n",
       "      <td>2016-01-08</td>\n",
       "      <td>116.330002</td>\n",
       "      <td>117.720001</td>\n",
       "      <td>111.099998</td>\n",
       "      <td>111.389999</td>\n",
       "      <td>111.389999</td>\n",
       "      <td>18067100</td>\n",
       "      <td>2016</td>\n",
       "      <td>January</td>\n",
       "      <td>January, 2016</td>\n",
       "    </tr>\n",
       "  </tbody>\n",
       "</table>\n",
       "</div>"
      ],
      "text/plain": [
       "           Date        Open        High         Low       Close   Adj Close  \\\n",
       "3427 2016-01-04  109.000000  110.000000  105.209999  109.959999  109.959999   \n",
       "3428 2016-01-05  110.449997  110.580002  105.849998  107.660004  107.660004   \n",
       "3429 2016-01-06  105.290001  117.910004  104.959999  117.680000  117.680000   \n",
       "3430 2016-01-07  116.360001  122.180000  112.290001  114.559998  114.559998   \n",
       "3431 2016-01-08  116.330002  117.720001  111.099998  111.389999  111.389999   \n",
       "\n",
       "        Volume  Year    Month     Year-Month  \n",
       "3427  20794800  2016  January  January, 2016  \n",
       "3428  17664600  2016  January  January, 2016  \n",
       "3429  33045700  2016  January  January, 2016  \n",
       "3430  33636700  2016  January  January, 2016  \n",
       "3431  18067100  2016  January  January, 2016  "
      ]
     },
     "execution_count": 110,
     "metadata": {},
     "output_type": "execute_result"
    }
   ],
   "source": [
    "stocks.head()"
   ]
  },
  {
   "cell_type": "code",
   "execution_count": 113,
   "id": "5237ab2f",
   "metadata": {},
   "outputs": [],
   "source": [
    "stocks.to_csv('data/stocks.csv', index=False)"
   ]
  }
 ],
 "metadata": {
  "kernelspec": {
   "display_name": "Python 3 (ipykernel)",
   "language": "python",
   "name": "python3"
  },
  "language_info": {
   "codemirror_mode": {
    "name": "ipython",
    "version": 3
   },
   "file_extension": ".py",
   "mimetype": "text/x-python",
   "name": "python",
   "nbconvert_exporter": "python",
   "pygments_lexer": "ipython3",
   "version": "3.10.0"
  }
 },
 "nbformat": 4,
 "nbformat_minor": 5
}
